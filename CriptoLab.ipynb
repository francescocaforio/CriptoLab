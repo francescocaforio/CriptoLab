{
  "nbformat": 4,
  "nbformat_minor": 0,
  "metadata": {
    "colab": {
      "provenance": [],
      "include_colab_link": true
    },
    "kernelspec": {
      "name": "python3",
      "display_name": "Python 3"
    },
    "language_info": {
      "name": "python"
    }
  },
  "cells": [
    {
      "cell_type": "markdown",
      "metadata": {
        "id": "view-in-github",
        "colab_type": "text"
      },
      "source": [
        "<a href=\"https://colab.research.google.com/github/francescocaforio/CriptoLab/blob/main/CriptoLab.ipynb\" target=\"_parent\"><img src=\"https://colab.research.google.com/assets/colab-badge.svg\" alt=\"Open In Colab\"/></a>"
      ]
    },
    {
      "cell_type": "markdown",
      "source": [
        "# Crittografia simmetrica con *Data Encryption Standard*. Teoria e pratica in *Python*"
      ],
      "metadata": {
        "id": "HEfcikU0PatJ"
      }
    },
    {
      "cell_type": "markdown",
      "source": [
        "Il seguente notebook è stato sviluppato nell’ambito del laboratorio *CriptoLab – Alla scoperta della crittografia*, realizzato presso l’IISS Majorana di Martina Franca e finanziato con risorse PNRR - DM 65/2023.\n",
        "Analizza e implementa l’algoritmo DES, uno degli algoritmi di crittografia simmetrica più importanti. *CriptoLab* si presenta come un laboratorio didattico in cui teoria e pratica si intrecciano: da un lato vengono illustrate le fasi fondamentali del DES, dall’altro si offre la possibilità di osservare e sperimentare il funzionamento del cifrario tramite codice *Python* eseguibile.\n",
        "Questo approccio hands-on si dimostra particolarmente efficace per gli studenti, poiché consente di comprendere i meccanismi complessi della cifratura a blocchi attraverso esempi concreti.\n",
        "\n",
        "A cura di *Francesco Paolo Caforio*, docente classe di concorso A-041 (Scienze e Tecnologie Informatiche) - IISS Majorana, Martina Franca, TA"
      ],
      "metadata": {
        "id": "MWgW8tIFQTrr"
      }
    },
    {
      "cell_type": "markdown",
      "source": [
        "# Studio strutturato e implementazione semplificata dell'algoritmo crittografico"
      ],
      "metadata": {
        "id": "PgGWHjJoaU1G"
      }
    },
    {
      "cell_type": "markdown",
      "source": [
        "Il codice definisce alcune tabelle fondamentali per il funzionamento dell’algoritmo DES.\n",
        "La lista `initial_permutation` rappresenta la permutazione iniziale applicata al blocco di 64 bit in input: essa riorganizza i bit secondo un ordine prestabilito, preparando i dati per i 16 round dell’algoritmo.\n",
        "Analogamente, la lista `final_permutation` esegue la permutazione finale inversa al termine della cifratura, restituendo il blocco cifrato finale.\n",
        "La `expansion_table `serve invece a espandere i 32 bit della metà destra del blocco (R) a 48 bit, duplicando alcuni bit, per poterli combinare con la sottochiave del round tramite un'operazione XOR.\n",
        "Infine, le otto tabelle `S1...S8` rappresentano le S-box: strutture fondamentali che realizzano la sostituzione non lineare nel DES. Ogni S-box prende in input 6 bit e restituisce 4 bit, introducendo confusione nel testo cifrato e rendendo il cifrario resistente ad attacchi crittanalitici."
      ],
      "metadata": {
        "id": "BHGyYVWfQ6l_"
      }
    },
    {
      "cell_type": "code",
      "source": [
        "initial_permutation = [\n",
        "    58, 50, 42, 34, 26, 18, 10, 2,\n",
        "    60, 52, 44, 36, 28, 20, 12, 4,\n",
        "    62, 54, 46, 38, 30, 22, 14, 6,\n",
        "    64, 56, 48, 40, 32, 24, 16, 8,\n",
        "    57, 49, 41, 33, 25, 17, 9, 1,\n",
        "    59, 51, 43, 35, 27, 19, 11, 3,\n",
        "    61, 53, 45, 37, 29, 21, 13, 5,\n",
        "    63, 55, 47, 39, 31, 23, 15, 7\n",
        "]\n",
        "\n",
        "final_permutation = [\n",
        "    40, 8, 48, 16, 56, 24, 64, 32,\n",
        "    39, 7, 47, 15, 55, 23, 63, 31,\n",
        "    38, 6, 46, 14, 54, 22, 62, 30,\n",
        "    37, 5, 45, 13, 53, 21, 61, 29,\n",
        "    36, 4, 44, 12, 52, 20, 60, 28,\n",
        "    35, 3, 43, 11, 51, 19, 59, 27,\n",
        "    34, 2, 42, 10, 50, 18, 58, 26,\n",
        "    33, 1, 41, 9, 49, 17, 57, 25\n",
        "]\n",
        "\n",
        "expansion_table = [\n",
        "    32, 1, 2, 3, 4, 5,\n",
        "     4, 5, 6, 7, 8, 9,\n",
        "     8, 9,10,11,12,13,\n",
        "    12,13,14,15,16,17,\n",
        "    16,17,18,19,20,21,\n",
        "    20,21,22,23,24,25,\n",
        "    24,25,26,27,28,29,\n",
        "    28,29,31,31,32,1\n",
        "]\n",
        "\n",
        "# Definizione delle 8 S-box (dalle Tabelle 6.3–6.10)\n",
        "S1 = [\n",
        "    [14, 4, 13, 1, 2, 15, 11, 8, 3, 10, 6, 12, 5, 9, 0, 7],\n",
        "    [0, 15, 7, 4, 14, 2, 13, 10, 3, 6, 12, 11, 9, 5, 3, 8],\n",
        "    [4, 1, 14, 8, 13, 6, 2, 11, 15, 12, 9, 7, 3, 10, 5, 0],\n",
        "    [15, 12, 8, 2, 4, 9, 1, 7, 5, 11, 3, 14, 10, 0, 6, 13]\n",
        "]\n",
        "\n",
        "S2 = [\n",
        "    [15, 1, 8, 14, 6, 11, 3, 4, 9, 7, 2, 13, 12, 0, 5, 10],\n",
        "    [3, 13, 4, 7, 15, 2, 8, 14, 12, 0, 1, 10, 6, 9, 11, 5],\n",
        "    [0, 14, 7, 11, 10, 4, 13, 1, 5, 8, 12, 6, 9, 3, 2, 15],\n",
        "    [13, 8, 10, 1, 3, 15, 4, 2, 11, 6, 7, 12, 0, 5, 14, 9]\n",
        "]\n",
        "\n",
        "S3 = [\n",
        "    [10, 0, 9, 14, 6, 3, 15, 5, 1, 13, 12, 7, 11, 4, 2, 8],\n",
        "    [13, 7, 0, 9, 3, 4, 6, 10, 2, 8, 5, 14, 12, 11, 15, 1],\n",
        "    [13, 6, 4, 9, 8, 15, 3, 0, 11, 1, 2, 12, 5, 10, 14, 7],\n",
        "    [1, 10, 13, 0, 6, 9, 8, 7, 4, 15, 14, 3, 11, 5, 2, 12]\n",
        "]\n",
        "\n",
        "S4 = [\n",
        "    [7, 13, 14, 3, 0, 6, 9, 10, 1, 2, 8, 5, 11, 12, 4, 15],\n",
        "    [13, 8, 11, 5, 6, 15, 0, 3, 4, 7, 2, 12, 1, 10, 14, 9],\n",
        "    [10, 6, 9, 0, 12, 11, 7, 13, 15, 1, 3, 14, 5, 2, 8, 4],\n",
        "    [3, 15, 0, 6, 10, 1, 13, 8, 9, 4, 5, 11, 12, 7, 2, 14]\n",
        "]\n",
        "\n",
        "S5 = [\n",
        "    [2, 12, 4, 1, 7, 10, 11, 6, 8, 5, 3, 15, 13, 0, 14, 9],\n",
        "    [14, 11, 2, 12, 4, 7, 13, 1, 5, 0, 15, 10, 3, 9, 8, 6],\n",
        "    [4, 2, 1, 11, 10, 13, 7, 8, 15, 9, 12, 5, 6, 3, 0, 14],\n",
        "    [11, 8, 12, 7, 1, 14, 2, 13, 6, 15, 0, 9, 10, 4, 5, 3]\n",
        "]\n",
        "\n",
        "S6 = [\n",
        "    [12, 1, 10, 15, 9, 2, 6, 8, 0, 13, 3, 4, 14, 7, 5, 11],\n",
        "    [10, 15, 4, 2, 7, 12, 9, 5, 6, 1, 13, 14, 0, 11, 3, 8],\n",
        "    [9, 14, 15, 5, 2, 8, 12, 3, 7, 0, 4, 10, 1, 13, 11, 6],\n",
        "    [4, 3, 2, 12, 9, 5, 15, 10, 11, 14, 1, 7, 6, 0, 8, 13]\n",
        "]\n",
        "\n",
        "S7 = [\n",
        "    [4, 11, 2, 14, 15, 0, 8, 13, 3, 12, 9, 7, 5, 10, 6, 1],\n",
        "    [13, 0, 11, 7, 4, 9, 1, 10, 14, 3, 5, 12, 2, 15, 8, 6],\n",
        "    [1, 4, 11, 13, 12, 3, 7, 14, 10, 15, 6, 8, 0, 5, 9, 2],\n",
        "    [6, 11, 13, 8, 1, 4, 10, 7, 9, 5, 0, 15, 14, 2, 3, 12]\n",
        "]\n",
        "\n",
        "S8 = [\n",
        "    [13, 2, 8, 4, 6, 15, 11, 1, 10, 9, 3, 14, 5, 0, 12, 7],\n",
        "    [1, 15, 13, 8, 10, 3, 7, 4, 12, 5, 6, 11, 0, 14, 9, 2],\n",
        "    [7, 11, 4, 1, 9, 12, 14, 2, 0, 6, 10, 13, 15, 3, 5, 8],\n",
        "    [2, 1, 14, 7, 4, 10, 8, 13, 15, 12, 9, 0, 3, 5, 6, 11]\n",
        "]"
      ],
      "metadata": {
        "id": "caZxGUhoE65X"
      },
      "execution_count": 2,
      "outputs": []
    },
    {
      "cell_type": "markdown",
      "source": [
        "Questo codice Python genera casualmente una stringa di 64 bit."
      ],
      "metadata": {
        "id": "FWlMpWGuRs41"
      }
    },
    {
      "cell_type": "code",
      "execution_count": 3,
      "metadata": {
        "id": "7yASsZsIsw62",
        "colab": {
          "base_uri": "https://localhost:8080/"
        },
        "outputId": "cfa53ee8-6dfb-4bb5-8e51-3fef56c777e5"
      },
      "outputs": [
        {
          "output_type": "stream",
          "name": "stdout",
          "text": [
            "0111010101001001111101011011101111001001101100100111001000010011\n"
          ]
        }
      ],
      "source": [
        "import random\n",
        "\n",
        "B4 = \"\"\n",
        "for _ in range(64):\n",
        "    B4 += random.choice(\"01\")\n",
        "\n",
        "print(B4)"
      ]
    },
    {
      "cell_type": "markdown",
      "source": [
        "Il codice definisce la funzione `apply_permutation`, che applica una permutazione a una stringa binaria di 64 bit secondo una tabella di permutazione (`initial_permutation`). La funzione controlla prima che la stringa in input  sia lunga esattamente 64 bit, altrimenti solleva un errore.\n",
        "Se la lunghezza è corretta, costruisce e restituisce una nuova stringa in cui i bit vengono riordinati secondo i valori indicati nella tabella di permutazione.\n",
        "Nel caso specifico, `apply_permutation(B4, initial_permutation)` applica la permutazione iniziale dell’algoritmo DES al blocco binario casuale `B4`, ottenendo il risultato `ip_result`, che viene poi stampato a schermo. Questa operazione è il primo passo del processo di cifratura DES, e prepara i dati per i successivi round di elaborazione."
      ],
      "metadata": {
        "id": "hfjVkZsHR3oq"
      }
    },
    {
      "cell_type": "code",
      "source": [
        "def apply_permutation(bitstring, permutation_table):\n",
        "    if len(bitstring) != 64:\n",
        "        raise ValueError(\"La stringa deve contenere esattamente 64 bit.\")\n",
        "    result = \"\"\n",
        "    for i in permutation_table:\n",
        "        result += bitstring[i - 1]\n",
        "    return result\n",
        "\n",
        "ip_result = apply_permutation(B4, initial_permutation)\n",
        "print(\"Initial Permutation:\", ip_result)"
      ],
      "metadata": {
        "colab": {
          "base_uri": "https://localhost:8080/"
        },
        "id": "y_TFKBykqoOB",
        "outputId": "22d6d51e-0ce5-4c90-bb11-fc7785ab584f"
      },
      "execution_count": 4,
      "outputs": [
        {
          "output_type": "stream",
          "name": "stdout",
          "text": [
            "Initial Permutation: 0101011111101101000001011001111100111100011011010001101011101000\n"
          ]
        }
      ]
    },
    {
      "cell_type": "markdown",
      "source": [
        "Il codice definisce e utilizza la funzione `split_64bit_string`, che ha lo scopo di dividere una stringa binaria di 64 bit in due metà da 32 bit. La funzione controlla che la stringa sia lunga esattamente 64 bit, altrimenti solleva un errore. Se la condizione è soddisfatta, estrae la parte sinistra (`left`) e la parte destra (`right`) della stringa, che rappresentano rispettivamente L₀ e R₀, le due metà iniziali del blocco da elaborare nei successivi 16 round del DES. L’assegnazione `R0 = right` rende esplicito che la metà destra sarà usata come base per la catena di trasformazioni."
      ],
      "metadata": {
        "id": "bOgFmL0tXiP2"
      }
    },
    {
      "cell_type": "code",
      "source": [
        "def split_64bit_string(bitstring):\n",
        "    \"\"\"Divide una stringa di 64 bit in due sottostringhe da 32 bit.\"\"\"\n",
        "    if len(bitstring) != 64:\n",
        "        raise ValueError(\"La stringa deve contenere esattamente 64 bit.\")\n",
        "    left = bitstring[:32]\n",
        "    right = bitstring[32:]\n",
        "    return left, right\n",
        "\n",
        "left, right = split_64bit_string(ip_result)\n",
        "\n",
        "R0=right\n",
        "\n",
        "print(\"Left  (L0):\", left)\n",
        "print(\"Right (R0):\", right)"
      ],
      "metadata": {
        "colab": {
          "base_uri": "https://localhost:8080/"
        },
        "id": "-zRsZHkyt_0H",
        "outputId": "79fab2d1-7ec9-4076-9072-270634959355"
      },
      "execution_count": 5,
      "outputs": [
        {
          "output_type": "stream",
          "name": "stdout",
          "text": [
            "Left  (L0): 01010111111011010000010110011111\n",
            "Right (R0): 00111100011011010001101011101000\n"
          ]
        }
      ]
    },
    {
      "cell_type": "markdown",
      "source": [
        "Il codice genera casualmente una sottochiave binaria di 48 bit."
      ],
      "metadata": {
        "id": "X8C5MygiZPV4"
      }
    },
    {
      "cell_type": "code",
      "source": [
        "import random\n",
        "\n",
        "sottochiave = ''.join(random.choice('01') for _ in range(48))\n",
        "print(sottochiave)"
      ],
      "metadata": {
        "colab": {
          "base_uri": "https://localhost:8080/"
        },
        "id": "w-k7C39NztfI",
        "outputId": "ae808c26-9d3b-41de-df93-9569ae15c2af"
      },
      "execution_count": 6,
      "outputs": [
        {
          "output_type": "stream",
          "name": "stdout",
          "text": [
            "001111111001000010111110110111001111101101101100\n"
          ]
        }
      ]
    },
    {
      "cell_type": "markdown",
      "source": [
        "Questo codice implementa una versione semplificata, ma didatticamente significativa del ciclo di 16 round dell’algoritmo DES. Le funzioni `expand_32_to_48`, `xor_48bit` e `apply_sbox` simulano le principali trasformazioni del cifrario. In ogni round, la metà destra del blocco (R0) viene espansa da 32 a 48 bit tramite la `expansion table`, dopodiché subisce un'operazione di XOR con una sottochiave a 48 bit. Il risultato viene diviso in otto blocchi da 6 bit, ciascuno dei quali viene passato a una diversa S-box (S1–S8). Le S-box trasformano ciascun blocco da 6 bit in un blocco da 4 bit, introducendo non linearità nel processo. I risultati delle S-box vengono concatenati in un’unica stringa binaria da 32 bit (`s_final`), che rappresenta l’output della funzione *F* di DES. A questo punto, si calcola l’XOR tra l’output delle S-box e la metà sinistra del blocco (L₀), ottenendo la nuova metà destra (R₁). Infine, L₀ e R₀ vengono aggiornati per il round successivo. L'intero ciclo viene ripetuto per 16 round, come previsto dal DES, anche se in questo caso viene utilizzata la stessa sottochiave fissa per tutti i round (semplificazione utile a scopo didattico). Durante ogni round, vengono stampate le informazioni intermedie per permettere agli studenti di osservare e comprendere nel dettaglio il funzionamento interno dell’algoritmo."
      ],
      "metadata": {
        "id": "vaOstn7rZdHM"
      }
    },
    {
      "cell_type": "code",
      "source": [
        "def expand_32_to_48(bitstring32):\n",
        "\n",
        "    if len(bitstring32) != 32:\n",
        "        raise ValueError(\"La stringa deve contenere esattamente 32 bit.\")\n",
        "\n",
        "    result = \"\"\n",
        "    for i in expansion_table:\n",
        "        result += bitstring32[i - 1]\n",
        "\n",
        "    return result\n",
        "\n",
        "\n",
        "def xor_48bit(str1, str2):\n",
        "\n",
        "    if len(str1) != 48 or len(str2) != 48:\n",
        "        raise ValueError(\"Entrambe le stringhe devono essere lunghe esattamente 48 bit.\")\n",
        "\n",
        "    result = \"\"\n",
        "    for b1, b2 in zip(str1, str2):\n",
        "        if b1 == b2:\n",
        "            result += '0'\n",
        "        else:\n",
        "            result += '1'\n",
        "\n",
        "    return result\n",
        "\n",
        "\n",
        "def xor_32bit(str1, str2):\n",
        "\n",
        "    if len(str1) != 32 or len(str2) != 32:\n",
        "        raise ValueError(\"Entrambe le stringhe devono essere lunghe esattamente 32 bit.\")\n",
        "\n",
        "    result = \"\"\n",
        "    for b1, b2 in zip(str1, str2):\n",
        "        if b1 == b2:\n",
        "            result += '0'\n",
        "        else:\n",
        "            result += '1'\n",
        "\n",
        "    return result\n",
        "\n",
        "def apply_sbox(sbox, bits):\n",
        "\n",
        "    riga = int(bits[0] + bits[5], 2)\n",
        "\n",
        "    colonna = int(bits[1:5], 2)\n",
        "\n",
        "    valore = sbox[riga][colonna]\n",
        "    return format(valore, '04b')\n",
        "\n",
        "L0=left\n",
        "R0=right\n",
        "\n",
        "for i in range(16):\n",
        "\n",
        "  print(\"ROUND: \", i+1)\n",
        "\n",
        "  expanded = expand_32_to_48(R0)\n",
        "  print(\"Espansa a 48 bit: \", expanded)\n",
        "  #print(\"Lunghezza: \", len(expanded))\n",
        "\n",
        "  risultato_xor = xor_48bit(sottochiave, expanded)\n",
        "  print(\"XOR: \", risultato_xor)\n",
        "\n",
        "  if len(risultato_xor) != 48:\n",
        "    raise ValueError(\"La stringa deve contenere esattamente 48 bit.\")\n",
        "\n",
        "  b1, b2, b3, b4, b5, b6, b7, b8 = [risultato_xor[i:i+6] for i in range(0, 48, 6)]\n",
        "\n",
        "  #print(\"b1:\", b1)\n",
        "  #print(\"b2:\", b2)\n",
        "  #print(\"b3:\", b3)\n",
        "  #print(\"b4:\", b4)\n",
        "  #print(\"b5:\", b5)\n",
        "  #print(\"b6:\", b6)\n",
        "  #print(\"b7:\", b7)\n",
        "  #print(\"b8:\", b8)\n",
        "\n",
        "  blocks = [b1, b2, b3, b4, b5, b6, b7, b8]\n",
        "\n",
        "  s1 = apply_sbox(S1, b1)\n",
        "  s2 = apply_sbox(S2, b2)\n",
        "  s3 = apply_sbox(S3, b3)\n",
        "  s4 = apply_sbox(S4, b4)\n",
        "  s5 = apply_sbox(S5, b5)\n",
        "  s6 = apply_sbox(S6, b6)\n",
        "  s7 = apply_sbox(S7, b7)\n",
        "  s8 = apply_sbox(S8, b8)\n",
        "\n",
        "  print(f\"s1: {s1}\")\n",
        "  print(f\"s2: {s2}\")\n",
        "  print(f\"s3: {s3}\")\n",
        "  print(f\"s4: {s4}\")\n",
        "  print(f\"s5: {s5}\")\n",
        "  print(f\"s6: {s6}\")\n",
        "  print(f\"s7: {s7}\")\n",
        "  print(f\"s8: {s8}\")\n",
        "\n",
        "  s_final = s1 + s2 + s3 + s4 + s5 + s6 + s7 + s8\n",
        "  print(f\"s_final: {s_final}\")\n",
        "\n",
        "  if len(s_final) != 32:\n",
        "    raise ValueError(\"La stringa deve contenere esattamente 32 bit.\")\n",
        "\n",
        "  risultato_xor = xor_32bit(L0, s_final)\n",
        "  print(\"XOR: \", risultato_xor)\n",
        "\n",
        "  L0=R0\n",
        "  R0=risultato_xor\n",
        "  print(\" \")"
      ],
      "metadata": {
        "colab": {
          "base_uri": "https://localhost:8080/"
        },
        "id": "TXqLzihGtTws",
        "outputId": "7b6475f1-0c67-4875-da83-b060a81014f1"
      },
      "execution_count": 8,
      "outputs": [
        {
          "output_type": "stream",
          "name": "stdout",
          "text": [
            "ROUND:  1\n",
            "Espansa a 48 bit:  000111111000001101011010100011110101011101010000\n",
            "XOR:  001000000001001111100100010100111010110000111100\n",
            "s1: 0010\n",
            "s2: 0011\n",
            "s3: 1010\n",
            "s4: 1001\n",
            "s5: 0011\n",
            "s6: 1101\n",
            "s7: 1010\n",
            "s8: 0101\n",
            "s_final: 00100011101010010011110110100101\n",
            "XOR:  01110100010001000011100000111010\n",
            " \n",
            "ROUND:  2\n",
            "Espansa a 48 bit:  001110101000001000001000000111110000000111111100\n",
            "XOR:  000001010001001010110110110000111111101010010000\n",
            "s1: 0000\n",
            "s2: 1100\n",
            "s3: 0011\n",
            "s4: 1110\n",
            "s5: 1111\n",
            "s6: 1101\n",
            "s7: 0011\n",
            "s8: 1010\n",
            "s_final: 00001100001111101111110100111010\n",
            "XOR:  00110000010100111110011111010010\n",
            " \n",
            "ROUND:  3\n",
            "Espansa a 48 bit:  000110100000001010100111111100001111111010101100\n",
            "XOR:  001001011001001000011001001011000000010111000000\n",
            "s1: 1110\n",
            "s2: 0110\n",
            "s3: 0110\n",
            "s4: 0001\n",
            "s5: 0111\n",
            "s6: 1100\n",
            "s7: 1100\n",
            "s8: 1101\n",
            "s_final: 11100110011000010111110011001101\n",
            "XOR:  10010010001001010100010011110111\n",
            " \n",
            "ROUND:  4\n",
            "Espansa a 48 bit:  110010100100000100001010101000001001011110101111\n",
            "XOR:  111101011101000110110100011111000110110011000011\n",
            "s1: 0110\n",
            "s2: 1011\n",
            "s3: 1110\n",
            "s4: 0011\n",
            "s5: 0110\n",
            "s6: 1111\n",
            "s7: 0101\n",
            "s8: 1111\n",
            "s_final: 01101011111000110110111101011111\n",
            "XOR:  01011011101100001000100010001101\n",
            " \n",
            "ROUND:  5\n",
            "Espansa a 48 bit:  101011110111110110100001010001010001010001010010\n",
            "XOR:  100100001110110100011111100110011110111100111110\n",
            "s1: 1110\n",
            "s2: 0100\n",
            "s3: 0010\n",
            "s4: 1001\n",
            "s5: 1011\n",
            "s6: 1011\n",
            "s7: 1001\n",
            "s8: 1000\n",
            "s_final: 11100100001010011011101110011000\n",
            "XOR:  01110110000011001111111101101111\n",
            " \n",
            "ROUND:  6\n",
            "Espansa a 48 bit:  101110101100000001011001011111111110101101011110\n",
            "XOR:  100001010101000011100111101000110001000000110010\n",
            "s1: 1111\n",
            "s2: 0001\n",
            "s3: 0111\n",
            "s4: 0110\n",
            "s5: 1010\n",
            "s6: 1011\n",
            "s7: 0100\n",
            "s8: 0110\n",
            "s_final: 11110001011101101010101101000110\n",
            "XOR:  10101010110001100010001111001011\n",
            " \n",
            "ROUND:  7\n",
            "Espansa a 48 bit:  110101010101011000001100000100000111111001011111\n",
            "XOR:  111010101100011010110010110011001000010100110011\n",
            "s1: 1010\n",
            "s2: 1101\n",
            "s3: 0100\n",
            "s4: 0001\n",
            "s5: 1111\n",
            "s6: 1001\n",
            "s7: 1001\n",
            "s8: 1100\n",
            "s_final: 10101101010000011111100110011100\n",
            "XOR:  11011011010011010000011011110011\n",
            " \n",
            "ROUND:  8\n",
            "Espansa a 48 bit:  111011110110101001011010100000001101011110101111\n",
            "XOR:  110100001111101011100100010111000010110011000011\n",
            "s1: 1001\n",
            "s2: 1110\n",
            "s3: 1001\n",
            "s4: 1001\n",
            "s5: 1010\n",
            "s6: 0001\n",
            "s7: 0101\n",
            "s8: 1111\n",
            "s_final: 10011110100110011010000101011111\n",
            "XOR:  00110100010111111000001010010100\n",
            " \n",
            "ROUND:  9\n",
            "Espansa a 48 bit:  000110101000001011111111110000000101010010100000\n",
            "XOR:  001001010001001001000001000111001010111111001100\n",
            "s1: 1110\n",
            "s2: 1100\n",
            "s3: 0011\n",
            "s4: 1101\n",
            "s5: 1100\n",
            "s6: 0010\n",
            "s7: 1100\n",
            "s8: 1011\n",
            "s_final: 11101100001111011100001011001011\n",
            "XOR:  00110111011100001100010000111000\n",
            " \n",
            "ROUND:  10\n",
            "Espansa a 48 bit:  000110101110101110100001011000001000000111110000\n",
            "XOR:  001001010111101100011111101111000111101010011100\n",
            "s1: 1110\n",
            "s2: 1010\n",
            "s3: 0011\n",
            "s4: 1001\n",
            "s5: 1101\n",
            "s6: 0010\n",
            "s7: 0011\n",
            "s8: 1100\n",
            "s_final: 11101010001110011101001000111100\n",
            "XOR:  11011110011001100101000010101000\n",
            " \n",
            "ROUND:  11\n",
            "Espansa a 48 bit:  011011111100001100001100001010100001010101010001\n",
            "XOR:  010100000101001110110010111101101110111000111101\n",
            "s1: 0110\n",
            "s2: 0100\n",
            "s3: 0101\n",
            "s4: 0001\n",
            "s5: 0101\n",
            "s6: 0011\n",
            "s7: 0000\n",
            "s8: 0110\n",
            "s_final: 01100100010100010101001100000110\n",
            "XOR:  01010011001000011001011100111110\n",
            " \n",
            "ROUND:  12\n",
            "Espansa a 48 bit:  001010100110100100000011110010101110100111111100\n",
            "XOR:  000101011111100110111101000101100001001010010000\n",
            "s1: 0111\n",
            "s2: 0101\n",
            "s3: 1001\n",
            "s4: 0010\n",
            "s5: 0010\n",
            "s6: 0100\n",
            "s7: 0000\n",
            "s8: 1010\n",
            "s_final: 01110101100100100010010000001010\n",
            "XOR:  10101011111101000111010010100010\n",
            " \n",
            "ROUND:  13\n",
            "Espansa a 48 bit:  010101010111111110101000001110101001010100001101\n",
            "XOR:  011010101110111100010110111001100110111001100001\n",
            "s1: 1001\n",
            "s2: 0001\n",
            "s3: 1110\n",
            "s4: 0101\n",
            "s5: 1010\n",
            "s6: 0101\n",
            "s7: 1110\n",
            "s8: 0010\n",
            "s_final: 10010001111001011010010111100010\n",
            "XOR:  11000010110001000011001011011100\n",
            " \n",
            "ROUND:  14\n",
            "Espansa a 48 bit:  011000000101011000001000000110100101011011110001\n",
            "XOR:  010111111100011010110110110001101010110110011101\n",
            "s1: 1011\n",
            "s2: 0010\n",
            "s3: 0100\n",
            "s4: 1110\n",
            "s5: 0110\n",
            "s6: 1000\n",
            "s7: 1000\n",
            "s8: 1001\n",
            "s_final: 10110010010011100110100010001001\n",
            "XOR:  00011001101110100001110000101011\n",
            " \n",
            "ROUND:  15\n",
            "Espansa a 48 bit:  100011110011110111110100000011111000000101011110\n",
            "XOR:  101100001010110101001010110100110111101000110010\n",
            "s1: 0010\n",
            "s2: 1011\n",
            "s3: 1110\n",
            "s4: 0110\n",
            "s5: 1100\n",
            "s6: 0111\n",
            "s7: 1100\n",
            "s8: 0110\n",
            "s_final: 00101011111001101100011111000110\n",
            "XOR:  11101001001000101111010100011010\n",
            " \n",
            "ROUND:  16\n",
            "Espansa a 48 bit:  011101010010100100000101011110101010100011111101\n",
            "XOR:  010010101011100110111011101001100101001110010001\n",
            "s1: 1010\n",
            "s2: 1111\n",
            "s3: 1001\n",
            "s4: 0111\n",
            "s5: 0001\n",
            "s6: 0010\n",
            "s7: 1101\n",
            "s8: 1100\n",
            "s_final: 10101111100101110001001011011100\n",
            "XOR:  10110110001011010000111011110111\n",
            " \n"
          ]
        }
      ]
    },
    {
      "cell_type": "markdown",
      "source": [
        "Questa parte finale del codice completa il processo di cifratura simulato con il DES. Dopo i 16 round, le due metà finali del blocco (L0 e R0) vengono concatenate in ordine (L0‖R0) e memorizzate nella variabile f. Su questa stringa di 64 bit viene poi applicata la permutazione finale (`final_permutation`), che riorganizza i bit secondo una tabella fissa, ottenendo il risultato fp_result. Successivamente, `fp_result` viene suddiviso nuovamente in due metà da 32 bit (`left` e `right`) con la funzione `split_64bit_string`. Infine, le due metà vengono scambiate (R‖L invece di L‖R) e concatenate nella variabile scambio. Questo scambio finale riflette il comportamento standard dell’algoritmo DES, che dopo i 16 round restituisce il blocco finale cifrato come R₁‖L₁."
      ],
      "metadata": {
        "id": "D0A9eXJSZ9B7"
      }
    },
    {
      "cell_type": "code",
      "source": [
        "f = L0 + R0\n",
        "\n",
        "fp_result = apply_permutation(f, final_permutation)\n",
        "print(\"Final Permutation: \", fp_result)\n",
        "\n",
        "left, right = split_64bit_string(fp_result)\n",
        "#print(left)\n",
        "#print(right)\n",
        "\n",
        "scambio = right+left\n",
        "\n",
        "print(\"Result: \", scambio)"
      ],
      "metadata": {
        "colab": {
          "base_uri": "https://localhost:8080/"
        },
        "id": "g7bOAmuJNCkT",
        "outputId": "84bdc1bd-8e6e-4461-838d-63d807cafe80"
      },
      "execution_count": null,
      "outputs": [
        {
          "output_type": "stream",
          "name": "stdout",
          "text": [
            "Final Permutation:  1011111011011010010100110000100001010110111101110000111110011110\n",
            "0101011011110111000011111001111010111110110110100101001100001000\n"
          ]
        }
      ]
    }
  ]
}