{
  "nbformat": 4,
  "nbformat_minor": 0,
  "metadata": {
    "colab": {
      "provenance": [],
      "include_colab_link": true
    },
    "kernelspec": {
      "name": "python3",
      "display_name": "Python 3"
    },
    "language_info": {
      "name": "python"
    }
  },
  "cells": [
    {
      "cell_type": "markdown",
      "metadata": {
        "id": "view-in-github",
        "colab_type": "text"
      },
      "source": [
        "<a href=\"https://colab.research.google.com/github/francescocaforio/CriptoLab/blob/main/CriptoLab.ipynb\" target=\"_parent\"><img src=\"https://colab.research.google.com/assets/colab-badge.svg\" alt=\"Open In Colab\"/></a>"
      ]
    },
    {
      "cell_type": "markdown",
      "source": [
        "# Crittografia simmetrica con Data Encryption Standard: teoria e pratica in Python"
      ],
      "metadata": {
        "id": "HEfcikU0PatJ"
      }
    },
    {
      "cell_type": "markdown",
      "source": [
        "Il notebook è stato sviluppato nell’ambito del laboratorio *CriptoLab – Alla scoperta della crittografia*, realizzato presso l’IISS Majorana di Martina Franca e finanziato con risorse PNRR - DM 65/2023.\n",
        "Analizza e implementa l’algoritmo DES, uno degli algoritmi di crittografia simmetrica più importanti nella storia dell’informatica. Si presenta come un laboratorio didattico in cui teoria e pratica si intrecciano armonicamente: da un lato vengono illustrate le fasi fondamentali del DES, dall’altro si offre la possibilità di osservare e sperimentare il funzionamento del cifrario tramite codice Python eseguibile.\n",
        "Questo approccio hands-on si dimostra particolarmente efficace per gli studenti, poiché consente di comprendere i meccanismi complessi della cifratura a blocchi attraverso esempi concreti.\n",
        "\n",
        "A cura di *Francesco Paolo Caforio*, docente classe di concorso A-041 (Scienze e Tecnologie Informatiche) - IISS Majorana, Martina Franca, TA"
      ],
      "metadata": {
        "id": "MWgW8tIFQTrr"
      }
    },
    {
      "cell_type": "markdown",
      "source": [
        "# Studio strutturato e implementazione semplificata dell'algoritmo crittografico"
      ],
      "metadata": {
        "id": "PgGWHjJoaU1G"
      }
    },
    {
      "cell_type": "markdown",
      "source": [
        "Il codice definisce alcune tabelle fondamentali per il funzionamento dell’algoritmo DES.\n",
        "La lista `initial_permutation` rappresenta la permutazione iniziale applicata al blocco di 64 bit in input: essa riorganizza i bit secondo un ordine prestabilito, preparando i dati per i 16 round dell’algoritmo.\n",
        "Analogamente, la lista `final_permutation` esegue la permutazione finale inversa al termine della cifratura, restituendo il blocco cifrato finale.\n",
        "La `expansion_table `serve invece a espandere i 32 bit della metà destra del blocco (R) a 48 bit, duplicando alcuni bit, per poterli combinare con la sottochiave del round tramite un'operazione XOR.\n",
        "Infine, le otto tabelle `S1...S8` rappresentano le S-box: strutture fondamentali che realizzano la sostituzione non lineare nel DES. Ogni S-box prende in input 6 bit e restituisce 4 bit, introducendo confusione nel testo cifrato e rendendo il cifrario resistente ad attacchi crittanalitici."
      ],
      "metadata": {
        "id": "BHGyYVWfQ6l_"
      }
    },
    {
      "cell_type": "code",
      "source": [
        "initial_permutation = [\n",
        "    58, 50, 42, 34, 26, 18, 10, 2,\n",
        "    60, 52, 44, 36, 28, 20, 12, 4,\n",
        "    62, 54, 46, 38, 30, 22, 14, 6,\n",
        "    64, 56, 48, 40, 32, 24, 16, 8,\n",
        "    57, 49, 41, 33, 25, 17, 9, 1,\n",
        "    59, 51, 43, 35, 27, 19, 11, 3,\n",
        "    61, 53, 45, 37, 29, 21, 13, 5,\n",
        "    63, 55, 47, 39, 31, 23, 15, 7\n",
        "]\n",
        "\n",
        "final_permutation = [\n",
        "    40, 8, 48, 16, 56, 24, 64, 32,\n",
        "    39, 7, 47, 15, 55, 23, 63, 31,\n",
        "    38, 6, 46, 14, 54, 22, 62, 30,\n",
        "    37, 5, 45, 13, 53, 21, 61, 29,\n",
        "    36, 4, 44, 12, 52, 20, 60, 28,\n",
        "    35, 3, 43, 11, 51, 19, 59, 27,\n",
        "    34, 2, 42, 10, 50, 18, 58, 26,\n",
        "    33, 1, 41, 9, 49, 17, 57, 25\n",
        "]\n",
        "\n",
        "expansion_table = [\n",
        "    32, 1, 2, 3, 4, 5,\n",
        "     4, 5, 6, 7, 8, 9,\n",
        "     8, 9,10,11,12,13,\n",
        "    12,13,14,15,16,17,\n",
        "    16,17,18,19,20,21,\n",
        "    20,21,22,23,24,25,\n",
        "    24,25,26,27,28,29,\n",
        "    28,29,31,31,32,1\n",
        "]\n",
        "\n",
        "# Definizione delle 8 S-box (dalle Tabelle 6.3–6.10)\n",
        "S1 = [\n",
        "    [14, 4, 13, 1, 2, 15, 11, 8, 3, 10, 6, 12, 5, 9, 0, 7],\n",
        "    [0, 15, 7, 4, 14, 2, 13, 10, 3, 6, 12, 11, 9, 5, 3, 8],\n",
        "    [4, 1, 14, 8, 13, 6, 2, 11, 15, 12, 9, 7, 3, 10, 5, 0],\n",
        "    [15, 12, 8, 2, 4, 9, 1, 7, 5, 11, 3, 14, 10, 0, 6, 13]\n",
        "]\n",
        "\n",
        "S2 = [\n",
        "    [15, 1, 8, 14, 6, 11, 3, 4, 9, 7, 2, 13, 12, 0, 5, 10],\n",
        "    [3, 13, 4, 7, 15, 2, 8, 14, 12, 0, 1, 10, 6, 9, 11, 5],\n",
        "    [0, 14, 7, 11, 10, 4, 13, 1, 5, 8, 12, 6, 9, 3, 2, 15],\n",
        "    [13, 8, 10, 1, 3, 15, 4, 2, 11, 6, 7, 12, 0, 5, 14, 9]\n",
        "]\n",
        "\n",
        "S3 = [\n",
        "    [10, 0, 9, 14, 6, 3, 15, 5, 1, 13, 12, 7, 11, 4, 2, 8],\n",
        "    [13, 7, 0, 9, 3, 4, 6, 10, 2, 8, 5, 14, 12, 11, 15, 1],\n",
        "    [13, 6, 4, 9, 8, 15, 3, 0, 11, 1, 2, 12, 5, 10, 14, 7],\n",
        "    [1, 10, 13, 0, 6, 9, 8, 7, 4, 15, 14, 3, 11, 5, 2, 12]\n",
        "]\n",
        "\n",
        "S4 = [\n",
        "    [7, 13, 14, 3, 0, 6, 9, 10, 1, 2, 8, 5, 11, 12, 4, 15],\n",
        "    [13, 8, 11, 5, 6, 15, 0, 3, 4, 7, 2, 12, 1, 10, 14, 9],\n",
        "    [10, 6, 9, 0, 12, 11, 7, 13, 15, 1, 3, 14, 5, 2, 8, 4],\n",
        "    [3, 15, 0, 6, 10, 1, 13, 8, 9, 4, 5, 11, 12, 7, 2, 14]\n",
        "]\n",
        "\n",
        "S5 = [\n",
        "    [2, 12, 4, 1, 7, 10, 11, 6, 8, 5, 3, 15, 13, 0, 14, 9],\n",
        "    [14, 11, 2, 12, 4, 7, 13, 1, 5, 0, 15, 10, 3, 9, 8, 6],\n",
        "    [4, 2, 1, 11, 10, 13, 7, 8, 15, 9, 12, 5, 6, 3, 0, 14],\n",
        "    [11, 8, 12, 7, 1, 14, 2, 13, 6, 15, 0, 9, 10, 4, 5, 3]\n",
        "]\n",
        "\n",
        "S6 = [\n",
        "    [12, 1, 10, 15, 9, 2, 6, 8, 0, 13, 3, 4, 14, 7, 5, 11],\n",
        "    [10, 15, 4, 2, 7, 12, 9, 5, 6, 1, 13, 14, 0, 11, 3, 8],\n",
        "    [9, 14, 15, 5, 2, 8, 12, 3, 7, 0, 4, 10, 1, 13, 11, 6],\n",
        "    [4, 3, 2, 12, 9, 5, 15, 10, 11, 14, 1, 7, 6, 0, 8, 13]\n",
        "]\n",
        "\n",
        "S7 = [\n",
        "    [4, 11, 2, 14, 15, 0, 8, 13, 3, 12, 9, 7, 5, 10, 6, 1],\n",
        "    [13, 0, 11, 7, 4, 9, 1, 10, 14, 3, 5, 12, 2, 15, 8, 6],\n",
        "    [1, 4, 11, 13, 12, 3, 7, 14, 10, 15, 6, 8, 0, 5, 9, 2],\n",
        "    [6, 11, 13, 8, 1, 4, 10, 7, 9, 5, 0, 15, 14, 2, 3, 12]\n",
        "]\n",
        "\n",
        "S8 = [\n",
        "    [13, 2, 8, 4, 6, 15, 11, 1, 10, 9, 3, 14, 5, 0, 12, 7],\n",
        "    [1, 15, 13, 8, 10, 3, 7, 4, 12, 5, 6, 11, 0, 14, 9, 2],\n",
        "    [7, 11, 4, 1, 9, 12, 14, 2, 0, 6, 10, 13, 15, 3, 5, 8],\n",
        "    [2, 1, 14, 7, 4, 10, 8, 13, 15, 12, 9, 0, 3, 5, 6, 11]\n",
        "]"
      ],
      "metadata": {
        "id": "caZxGUhoE65X"
      },
      "execution_count": 55,
      "outputs": []
    },
    {
      "cell_type": "markdown",
      "source": [
        "Questo codice Python genera casualmente una stringa di 64 bit."
      ],
      "metadata": {
        "id": "FWlMpWGuRs41"
      }
    },
    {
      "cell_type": "code",
      "execution_count": 40,
      "metadata": {
        "id": "7yASsZsIsw62",
        "colab": {
          "base_uri": "https://localhost:8080/"
        },
        "outputId": "a0bb4e7d-d7bd-45b3-96b4-a9d99ad244cc"
      },
      "outputs": [
        {
          "output_type": "stream",
          "name": "stdout",
          "text": [
            "0011010000111001001000001000011100110010000001000011001011111111\n"
          ]
        }
      ],
      "source": [
        "import random\n",
        "\n",
        "B4 = \"\"\n",
        "for _ in range(64):\n",
        "    B4 += random.choice(\"01\")\n",
        "\n",
        "print(B4)"
      ]
    },
    {
      "cell_type": "markdown",
      "source": [
        "Il codice definisce la funzione `apply_permutation`, che applica una permutazione a una stringa binaria di 64 bit secondo una tabella di permutazione (`initial_permutation`). La funzione controlla prima che la stringa in input  sia lunga esattamente 64 bit, altrimenti solleva un errore.\n",
        "Se la lunghezza è corretta, costruisce e restituisce una nuova stringa in cui i bit vengono riordinati secondo i valori indicati nella tabella di permutazione.\n",
        "Nel caso specifico, `apply_permutation(BL4, initial_permutation)` applica la permutazione iniziale dell’algoritmo DES al blocco binario casuale `BL4`, ottenendo il risultato `ip_result`, che viene poi stampato a schermo. Questa operazione è il primo passo del processo di cifratura DES, e prepara i dati per i successivi round di elaborazione."
      ],
      "metadata": {
        "id": "hfjVkZsHR3oq"
      }
    },
    {
      "cell_type": "code",
      "source": [
        "def apply_permutation(bitstring, permutation_table):\n",
        "    if len(bitstring) != 64:\n",
        "        raise ValueError(\"La stringa deve contenere esattamente 64 bit.\")\n",
        "    result = \"\"\n",
        "    for i in permutation_table:\n",
        "        result += bitstring[i - 1]\n",
        "    return result\n",
        "\n",
        "ip_result = apply_permutation(B4, initial_permutation)\n",
        "print(\"Initial Permutation:\", ip_result)"
      ],
      "metadata": {
        "colab": {
          "base_uri": "https://localhost:8080/"
        },
        "id": "y_TFKBykqoOB",
        "outputId": "62620ce3-5bb7-455e-a16e-2314bad306ba"
      },
      "execution_count": 56,
      "outputs": [
        {
          "output_type": "stream",
          "name": "stdout",
          "text": [
            "Initial Permutation: 1000000011010011101010011000101010001000110101111000001011011000\n"
          ]
        }
      ]
    },
    {
      "cell_type": "markdown",
      "source": [
        "Il codice definisce e utilizza la funzione `split_64bit_string`, che ha lo scopo di dividere una stringa binaria di 64 bit in due metà da 32 bit. La funzione controlla che la stringa sia lunga esattamente 64 bit, altrimenti solleva un errore. Se la condizione è soddisfatta, estrae la parte sinistra (`left`) e la parte destra (`right`) della stringa, che rappresentano rispettivamente L₀ e R₀, le due metà iniziali del blocco da elaborare nei successivi 16 round del DES. L’assegnazione `R0 = right` rende esplicito che la metà destra sarà usata come base per la catena di trasformazioni."
      ],
      "metadata": {
        "id": "bOgFmL0tXiP2"
      }
    },
    {
      "cell_type": "code",
      "source": [
        "def split_64bit_string(bitstring):\n",
        "    \"\"\"Divide una stringa di 64 bit in due sottostringhe da 32 bit.\"\"\"\n",
        "    if len(bitstring) != 64:\n",
        "        raise ValueError(\"La stringa deve contenere esattamente 64 bit.\")\n",
        "    left = bitstring[:32]\n",
        "    right = bitstring[32:]\n",
        "    return left, right\n",
        "\n",
        "left, right = split_64bit_string(ip_result)\n",
        "\n",
        "R0=right\n",
        "\n",
        "print(\"Left  (L0):\", left)\n",
        "print(\"Right (R0):\", right)"
      ],
      "metadata": {
        "colab": {
          "base_uri": "https://localhost:8080/"
        },
        "id": "-zRsZHkyt_0H",
        "outputId": "716e305a-d745-428d-c91e-6532c4ff0b78"
      },
      "execution_count": 57,
      "outputs": [
        {
          "output_type": "stream",
          "name": "stdout",
          "text": [
            "Left  (L0): 10000000110100111010100110001010\n",
            "Right (R0): 10001000110101111000001011011000\n"
          ]
        }
      ]
    },
    {
      "cell_type": "markdown",
      "source": [
        "Il codice genera casualmente una sottochiave binaria di 48 bit."
      ],
      "metadata": {
        "id": "X8C5MygiZPV4"
      }
    },
    {
      "cell_type": "code",
      "source": [
        "import random\n",
        "\n",
        "sottochiave = ''.join(random.choice('01') for _ in range(48))\n",
        "print(sottochiave)"
      ],
      "metadata": {
        "colab": {
          "base_uri": "https://localhost:8080/"
        },
        "id": "w-k7C39NztfI",
        "outputId": "513cd6e8-15b6-4e65-ebc2-3de86eccc974"
      },
      "execution_count": 58,
      "outputs": [
        {
          "output_type": "stream",
          "name": "stdout",
          "text": [
            "000011000111001101001100111101011001100000101011\n"
          ]
        }
      ]
    },
    {
      "cell_type": "markdown",
      "source": [
        "Questo codice implementa una versione semplificata, ma didatticamente significativa del ciclo di 16 round dell’algoritmo DES. Le funzioni `expand_32_to_48`, `xor_48bit` e `apply_sbox` simulano le principali trasformazioni del cifrario. In ogni round, la metà destra del blocco (R0) viene espansa da 32 a 48 bit tramite la `expansion table`, dopodiché subisce un'operazione di XOR con una sottochiave a 48 bit. Il risultato viene diviso in otto blocchi da 6 bit, ciascuno dei quali viene passato a una diversa S-box (S1–S8). Le S-box trasformano ciascun blocco da 6 bit in un blocco da 4 bit, introducendo non linearità nel processo. I risultati delle S-box vengono concatenati in un’unica stringa binaria da 32 bit (`s_final`), che rappresenta l’output della funzione *F* di DES. A questo punto, si calcola l’XOR tra l’output delle S-box e la metà sinistra del blocco (L₀), ottenendo la nuova metà destra (R₁). Infine, L₀ e R₀ vengono aggiornati per il round successivo. L'intero ciclo viene ripetuto per 16 round, come previsto dal DES, anche se in questo caso viene utilizzata la stessa sottochiave fissa per tutti i round (semplificazione utile a scopo didattico). Durante ogni round, vengono stampate le informazioni intermedie per permettere agli studenti di osservare e comprendere nel dettaglio il funzionamento interno dell’algoritmo."
      ],
      "metadata": {
        "id": "vaOstn7rZdHM"
      }
    },
    {
      "cell_type": "code",
      "source": [
        "def expand_32_to_48(bitstring32):\n",
        "\n",
        "    if len(bitstring32) != 32:\n",
        "        raise ValueError(\"La stringa deve contenere esattamente 32 bit.\")\n",
        "\n",
        "    result = \"\"\n",
        "    for i in expansion_table:\n",
        "        result += bitstring32[i - 1]\n",
        "\n",
        "    return result\n",
        "\n",
        "\n",
        "def xor_48bit(str1, str2):\n",
        "\n",
        "    if len(str1) != 48 or len(str2) != 48:\n",
        "        raise ValueError(\"Entrambe le stringhe devono essere lunghe esattamente 48 bit.\")\n",
        "\n",
        "    result = \"\"\n",
        "    for b1, b2 in zip(str1, str2):\n",
        "        if b1 == b2:\n",
        "            result += '0'\n",
        "        else:\n",
        "            result += '1'\n",
        "\n",
        "    return result\n",
        "\n",
        "\n",
        "def xor_32bit(str1, str2):\n",
        "\n",
        "    if len(str1) != 32 or len(str2) != 32:\n",
        "        raise ValueError(\"Entrambe le stringhe devono essere lunghe esattamente 32 bit.\")\n",
        "\n",
        "    result = \"\"\n",
        "    for b1, b2 in zip(str1, str2):\n",
        "        if b1 == b2:\n",
        "            result += '0'\n",
        "        else:\n",
        "            result += '1'\n",
        "\n",
        "    return result\n",
        "\n",
        "def apply_sbox(sbox, bits):\n",
        "\n",
        "    riga = int(bits[0] + bits[5], 2)\n",
        "\n",
        "    colonna = int(bits[1:5], 2)\n",
        "\n",
        "    valore = sbox[riga][colonna]\n",
        "    return format(valore, '04b')\n",
        "\n",
        "L0=left\n",
        "R0=right\n",
        "\n",
        "for i in range(16):\n",
        "\n",
        "  print(\"ROUND: \", i)\n",
        "\n",
        "  expanded = expand_32_to_48(R0)\n",
        "  print(\"Espansa a 48 bit: \", expanded)\n",
        "  #print(\"Lunghezza: \", len(expanded))\n",
        "\n",
        "  risultato_xor = xor_48bit(sottochiave, expanded)\n",
        "  print(\"XOR: \", risultato_xor)\n",
        "\n",
        "  if len(risultato_xor) != 48:\n",
        "    raise ValueError(\"La stringa deve contenere esattamente 48 bit.\")\n",
        "\n",
        "  b1, b2, b3, b4, b5, b6, b7, b8 = [risultato_xor[i:i+6] for i in range(0, 48, 6)]\n",
        "\n",
        "  #print(\"b1:\", b1)\n",
        "  #print(\"b2:\", b2)\n",
        "  #print(\"b3:\", b3)\n",
        "  #print(\"b4:\", b4)\n",
        "  #print(\"b5:\", b5)\n",
        "  #print(\"b6:\", b6)\n",
        "  #print(\"b7:\", b7)\n",
        "  #print(\"b8:\", b8)\n",
        "\n",
        "  blocks = [b1, b2, b3, b4, b5, b6, b7, b8]\n",
        "\n",
        "  s1 = apply_sbox(S1, b1)\n",
        "  s2 = apply_sbox(S2, b2)\n",
        "  s3 = apply_sbox(S3, b3)\n",
        "  s4 = apply_sbox(S4, b4)\n",
        "  s5 = apply_sbox(S5, b5)\n",
        "  s6 = apply_sbox(S6, b6)\n",
        "  s7 = apply_sbox(S7, b7)\n",
        "  s8 = apply_sbox(S8, b8)\n",
        "\n",
        "  print(f\"s1: {s1}\")\n",
        "  print(f\"s2: {s2}\")\n",
        "  print(f\"s3: {s3}\")\n",
        "  print(f\"s4: {s4}\")\n",
        "  print(f\"s5: {s5}\")\n",
        "  print(f\"s6: {s6}\")\n",
        "  print(f\"s7: {s7}\")\n",
        "  print(f\"s8: {s8}\")\n",
        "\n",
        "  s_final = s1 + s2 + s3 + s4 + s5 + s6 + s7 + s8\n",
        "  print(f\"s_final: {s_final}\")\n",
        "\n",
        "  if len(s_final) != 32:\n",
        "    raise ValueError(\"La stringa deve contenere esattamente 32 bit.\")\n",
        "\n",
        "  risultato_xor = xor_32bit(L0, s_final)\n",
        "  print(\"XOR: \", risultato_xor)\n",
        "\n",
        "  L0=R0\n",
        "  R0=risultato_xor"
      ],
      "metadata": {
        "colab": {
          "base_uri": "https://localhost:8080/"
        },
        "id": "TXqLzihGtTws",
        "outputId": "c1872267-260d-4894-d93f-c7e494640a40"
      },
      "execution_count": 60,
      "outputs": [
        {
          "output_type": "stream",
          "name": "stdout",
          "text": [
            "ROUND:  0\n",
            "Espansa a 48 bit:  010001010001011010101111110000000101011011110001\n",
            "XOR:  010010010110010111100011001101011100111011011010\n",
            "s1: 1010\n",
            "s2: 1101\n",
            "s3: 1110\n",
            "s4: 1111\n",
            "s5: 1101\n",
            "s6: 0101\n",
            "s7: 0010\n",
            "s8: 0000\n",
            "s_final: 10101101111011111101010100100000\n",
            "XOR:  00101101001111000111110010101010\n",
            "ROUND:  1\n",
            "Espansa a 48 bit:  000101011010100111111000001111111001010101011100\n",
            "XOR:  000110011101101010110100110010100000110101110111\n",
            "s1: 0001\n",
            "s2: 1011\n",
            "s3: 1111\n",
            "s4: 0011\n",
            "s5: 1001\n",
            "s6: 1001\n",
            "s7: 0000\n",
            "s8: 0000\n",
            "s_final: 00011011111100111001100100000000\n",
            "XOR:  10010011001001000001101111011000\n",
            "ROUND:  2\n",
            "Espansa a 48 bit:  010010100110100100001000000011110111111011110001\n",
            "XOR:  010001100001101001000100111110101110011011011010\n",
            "s1: 0011\n",
            "s2: 1101\n",
            "s3: 0110\n",
            "s4: 1110\n",
            "s5: 1110\n",
            "s6: 0011\n",
            "s7: 1111\n",
            "s8: 0000\n",
            "s_final: 00111101011011101110001111110000\n",
            "XOR:  00010000010100101001111101011010\n",
            "ROUND:  3\n",
            "Espansa a 48 bit:  000010100000001010100101010011111110101011111100\n",
            "XOR:  000001100111000111101001101110100111001011010111\n",
            "s1: 0000\n",
            "s2: 0001\n",
            "s3: 1001\n",
            "s4: 1010\n",
            "s5: 1000\n",
            "s6: 1100\n",
            "s7: 1001\n",
            "s8: 1011\n",
            "s_final: 00000001100110101000110010011011\n",
            "XOR:  10010010101111101001011101000011\n",
            "ROUND:  4\n",
            "Espansa a 48 bit:  110010100101010111111101010010101110101000001111\n",
            "XOR:  110001100010011010110001101111110111001000100100\n",
            "s1: 0101\n",
            "s2: 1110\n",
            "s3: 0100\n",
            "s4: 1001\n",
            "s5: 1101\n",
            "s6: 0111\n",
            "s7: 1111\n",
            "s8: 0100\n",
            "s_final: 01011110010010011101011111110100\n",
            "XOR:  01001110000110110100100010101110\n",
            "ROUND:  5\n",
            "Espansa a 48 bit:  001001011100000011110110101001010001010101011100\n",
            "XOR:  001010011011001110111010010100001000110101110111\n",
            "s1: 1111\n",
            "s2: 1001\n",
            "s3: 0101\n",
            "s4: 0010\n",
            "s5: 0011\n",
            "s6: 1001\n",
            "s7: 0000\n",
            "s8: 0000\n",
            "s_final: 11111001010100100011100100000000\n",
            "XOR:  01101011111011001010111001000011\n",
            "ROUND:  6\n",
            "Espansa a 48 bit:  101101010111111101011001010101011100001000001110\n",
            "XOR:  101110010000110000010101101000000101101000100101\n",
            "s1: 1011\n",
            "s2: 1001\n",
            "s3: 1011\n",
            "s4: 0010\n",
            "s5: 1010\n",
            "s6: 0100\n",
            "s7: 1100\n",
            "s8: 1110\n",
            "s_final: 10111001101100101010010011001110\n",
            "XOR:  11110111101010011110110001100000\n",
            "ROUND:  7\n",
            "Espansa a 48 bit:  011110101111110101010011111101011000001100000001\n",
            "XOR:  011101101000111000011111000000000001101100101010\n",
            "s1: 0011\n",
            "s2: 1010\n",
            "s3: 0101\n",
            "s4: 1001\n",
            "s5: 0010\n",
            "s6: 1010\n",
            "s7: 0111\n",
            "s8: 1100\n",
            "s_final: 00111010010110010010101001111100\n",
            "XOR:  01010001101101011000010000111111\n",
            "ROUND:  8\n",
            "Espansa a 48 bit:  101010100011110110101011110000001000000111111110\n",
            "XOR:  101001100100111011100111001101010001100111010101\n",
            "s1: 0100\n",
            "s2: 0111\n",
            "s3: 0101\n",
            "s4: 0110\n",
            "s5: 1101\n",
            "s6: 0110\n",
            "s7: 1000\n",
            "s8: 0110\n",
            "s_final: 01000111010101101101011010000110\n",
            "XOR:  10110000111111110011101011100110\n",
            "ROUND:  9\n",
            "Espansa a 48 bit:  010110100001011111111110100111110101011100001101\n",
            "XOR:  010101100110010010110010011010101100111100100110\n",
            "s1: 1100\n",
            "s2: 1011\n",
            "s3: 1101\n",
            "s4: 0001\n",
            "s5: 0000\n",
            "s6: 1100\n",
            "s7: 1001\n",
            "s8: 0001\n",
            "s_final: 11001011110100010000110010010001\n",
            "XOR:  10011010011001001000100010101110\n",
            "ROUND:  10\n",
            "Espansa a 48 bit:  010011110100001100001001010001010001010101011101\n",
            "XOR:  010000110011000001000101101100001000110101110110\n",
            "s1: 0011\n",
            "s2: 0110\n",
            "s3: 1101\n",
            "s4: 1011\n",
            "s5: 0111\n",
            "s6: 1001\n",
            "s7: 0000\n",
            "s8: 1101\n",
            "s_final: 00110110110110110111100100001101\n",
            "XOR:  10000110001001000100001111101011\n",
            "ROUND:  11\n",
            "Espansa a 48 bit:  110000001100000100001000001000000111111101011111\n",
            "XOR:  110011001011001001000100110101011110011101110100\n",
            "s1: 1011\n",
            "s2: 0010\n",
            "s3: 0011\n",
            "s4: 1110\n",
            "s5: 0000\n",
            "s6: 1011\n",
            "s7: 1000\n",
            "s8: 1010\n",
            "s_final: 10110010001111100000101110001010\n",
            "XOR:  00101000010110101000001100100100\n",
            "ROUND:  12\n",
            "Espansa a 48 bit:  000101010000001011110101010000000110100100000000\n",
            "XOR:  000110010111000110111001101101011111000100101011\n",
            "s1: 0001\n",
            "s2: 1010\n",
            "s3: 1110\n",
            "s4: 1100\n",
            "s5: 0010\n",
            "s6: 1000\n",
            "s7: 0010\n",
            "s8: 1010\n",
            "s_final: 00011010111011000010100000101010\n",
            "XOR:  10011100110010000110101111000001\n",
            "ROUND:  13\n",
            "Espansa a 48 bit:  110011111001011001010000001101010111111000000011\n",
            "XOR:  110000111110010100011100110000001110011000101000\n",
            "s1: 1111\n",
            "s2: 1111\n",
            "s3: 1100\n",
            "s4: 0100\n",
            "s5: 1111\n",
            "s6: 1000\n",
            "s7: 0101\n",
            "s8: 1001\n",
            "s_final: 11111111110001001111100001011001\n",
            "XOR:  11010111100111100111101101111101\n",
            "ROUND:  14\n",
            "Espansa a 48 bit:  111010101111110011111100001111110110101111110011\n",
            "XOR:  111001101000111110110000110010101111001111011000\n",
            "s1: 1010\n",
            "s2: 1010\n",
            "s3: 0111\n",
            "s4: 1111\n",
            "s5: 1001\n",
            "s6: 1010\n",
            "s7: 1010\n",
            "s8: 0101\n",
            "s_final: 10101010011111111001101010100101\n",
            "XOR:  00110110101101111111000101100100\n",
            "ROUND:  15\n",
            "Espansa a 48 bit:  000110101101010110101111111110100010101100000000\n",
            "XOR:  000101101010011011100011000011111011001100101011\n",
            "s1: 0111\n",
            "s2: 0100\n",
            "s3: 1011\n",
            "s4: 1111\n",
            "s5: 1011\n",
            "s6: 0000\n",
            "s7: 1000\n",
            "s8: 1010\n",
            "s_final: 01110100101111111011000010001010\n",
            "XOR:  10100011001000011100101111110111\n"
          ]
        }
      ]
    },
    {
      "cell_type": "markdown",
      "source": [
        "Questa parte finale del codice completa il processo di cifratura simulato con il DES. Dopo i 16 round, le due metà finali del blocco (L0 e R0) vengono concatenate in ordine (L0‖R0) e memorizzate nella variabile f. Su questa stringa di 64 bit viene poi applicata la permutazione finale (`final_permutation`), che riorganizza i bit secondo una tabella fissa, ottenendo il risultato fp_result. Successivamente, `fp_result` viene suddiviso nuovamente in due metà da 32 bit (`left` e `right`) con la funzione `split_64bit_string`. Infine, le due metà vengono scambiate (R‖L invece di L‖R) e concatenate nella variabile scambio. Questo scambio finale riflette il comportamento standard dell’algoritmo DES, che dopo i 16 round restituisce il blocco finale cifrato come R₁‖L₁."
      ],
      "metadata": {
        "id": "D0A9eXJSZ9B7"
      }
    },
    {
      "cell_type": "code",
      "source": [
        "f = L0 + R0\n",
        "\n",
        "fp_result = apply_permutation(f, final_permutation)\n",
        "print(\"Final Permutation: \", fp_result)\n",
        "\n",
        "left, right = split_64bit_string(fp_result)\n",
        "#print(left)\n",
        "#print(right)\n",
        "\n",
        "scambio = right+left\n",
        "\n",
        "print(\"Result: \", scambio)"
      ],
      "metadata": {
        "colab": {
          "base_uri": "https://localhost:8080/"
        },
        "id": "g7bOAmuJNCkT",
        "outputId": "31dc85e8-6c64-448e-877c-85757abc2b66"
      },
      "execution_count": 63,
      "outputs": [
        {
          "output_type": "stream",
          "name": "stdout",
          "text": [
            "Final Permutation:  1011111011011010010100110000100001010110111101110000111110011110\n",
            "Result:  0101011011110111000011111001111010111110110110100101001100001000\n"
          ]
        }
      ]
    }
  ]
}