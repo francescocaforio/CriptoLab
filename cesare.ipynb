{
  "nbformat": 4,
  "nbformat_minor": 0,
  "metadata": {
    "colab": {
      "provenance": [],
      "authorship_tag": "ABX9TyMGFC8PJWj+wUbj6+jSHpH1",
      "include_colab_link": true
    },
    "kernelspec": {
      "name": "python3",
      "display_name": "Python 3"
    },
    "language_info": {
      "name": "python"
    }
  },
  "cells": [
    {
      "cell_type": "markdown",
      "metadata": {
        "id": "view-in-github",
        "colab_type": "text"
      },
      "source": [
        "<a href=\"https://colab.research.google.com/github/francescocaforio/CriptoLab/blob/main/cesare.ipynb\" target=\"_parent\"><img src=\"https://colab.research.google.com/assets/colab-badge.svg\" alt=\"Open In Colab\"/></a>"
      ]
    },
    {
      "cell_type": "markdown",
      "source": [
        "# Implementazione del cifrario di Cesare e realizzazione di un attacco a forza bruta"
      ],
      "metadata": {
        "id": "s7SwBjYMzd93"
      }
    },
    {
      "cell_type": "markdown",
      "source": [
        "Il **Cifrario di Cesare** è una tecnica di crittografia classica in cui ogni lettera di un messaggio viene sostituita con un'altra lettera a una distanza fissa nell'alfabeto.\n",
        "Questo progetto implementa il Cifrario di Cesare utilizzando un alfabeto italiano composto da 21 lettere; lo stesso include anche un modulo per eseguire un **attacco a forza bruta**, che tenta di decifrare un messaggio cifrato provando tutte le possibili chiavi.\n",
        "\n",
        "Il progetto è suddiviso in tre file principali:\n",
        "\n",
        "*   **cesare.py**: implementa le funzioni per cifrare e decifrare un messaggio utilizzando il Cifrario di Cesare;\n",
        "*   **attacco.py**: implementa un attacco a forza bruta per tentare tutte le chiavi possibili su un testo cifrato;\n",
        "*   **main.py**: è il programma principale che gestisce l'interazione con l'utente e integra i moduli di cifratura e decifratura.\n",
        "\n",
        "A cura del prof. FP Caforio (www.francescopaolocaforio.com)\n",
        "\n"
      ],
      "metadata": {
        "id": "_xWlmQwpz1sp"
      }
    },
    {
      "cell_type": "markdown",
      "source": [
        "# Modulo cesare.py"
      ],
      "metadata": {
        "id": "1ObsPBmP366d"
      }
    },
    {
      "cell_type": "markdown",
      "source": [
        "Il modulo `cesare.py` contiene le funzioni che permettono di cifrare e decifrare un testo utilizzando il Cifrario di Cesare.\n",
        "\n",
        "Funzionalità principali:\n",
        "\n",
        "\n",
        "* **Cifratura**: la funzione `cifra_cesare` prende un testo in chiaro e una chiave come input. Per ogni lettera del testo, trova la sua posizione nell'alfabeto e la sostituisce con un'altra lettera spostata in avanti di un numero di posizioni pari alla chiave. Se un carattere non appartiene all'alfabeto (come spazi, numeri o punteggiatura), viene mantenuto inalterato.\n",
        "* **Decifratura**: la funzione `decifra_cesare` esegue l'operazione inversa della cifratura, spostando le lettere all'indietro nell'alfabeto secondo la chiave fornita. Anche in questo caso, i caratteri non alfabetici vengono mantenuti inalterati.\n",
        "\n",
        "Viene utilizzato l'alfabeto italiano a 21 lettere, definito esplicitamente nel codice come `ALFABETO_ITALIANO`.\n",
        "Viene utilizzata la funzione `testo.upper()` per convertire tutte le lettere in maiuscolo e semplificare la gestione delle lettere, evitando distinzioni tra maiuscole e minuscole."
      ],
      "metadata": {
        "id": "WxiL00X8248w"
      }
    },
    {
      "cell_type": "code",
      "execution_count": null,
      "metadata": {
        "id": "JVSJojVjySKS"
      },
      "outputs": [],
      "source": [
        "#A cura del prof. FP Caforio (www.francescopaolocaforio.com)\n",
        "\n",
        "# cesare.py\n",
        "\n",
        "ALFABETO_ITALIANO = \"ABCDEFGHILMNOPQRSTUVZ\"\n",
        "\n",
        "def cifra_cesare(testo, chiave):\n",
        "    \"\"\"\n",
        "    Funzione che cifra un testo in chiaro usando il Cifrario di Cesare con una chiave data\n",
        "    sull'alfabeto italiano (21 lettere).\n",
        "    :param testo: Il testo in chiaro da cifrare.\n",
        "    :param chiave: La chiave di cifratura, un intero.\n",
        "    :return: Il testo cifrato.\n",
        "    \"\"\"\n",
        "    risultato = \"\"\n",
        "    testo = testo.upper()  # Converti tutto il testo in maiuscolo\n",
        "    for carattere in testo:\n",
        "        if carattere in ALFABETO_ITALIANO:\n",
        "            indice = ALFABETO_ITALIANO.index(carattere)\n",
        "            nuovo_indice = (indice + chiave) % len(ALFABETO_ITALIANO)\n",
        "            risultato += ALFABETO_ITALIANO[nuovo_indice]\n",
        "        else:\n",
        "            risultato += carattere  # Mantiene i caratteri non alfabetici inalterati\n",
        "    return risultato\n",
        "\n",
        "def decifra_cesare(testo, chiave):\n",
        "    \"\"\"\n",
        "    Funzione che decifra un testo cifrato usando il Cifrario di Cesare con una chiave data.\n",
        "    :param testo: Il testo cifrato.\n",
        "    :param chiave: La chiave usata per la cifratura.\n",
        "    :return: Il testo in chiaro decifrato.\n",
        "    \"\"\"\n",
        "    risultato = \"\"\n",
        "    testo = testo.upper()  # Converti tutto il testo in maiuscolo\n",
        "    for carattere in testo:\n",
        "        if carattere in ALFABETO_ITALIANO:\n",
        "            indice = ALFABETO_ITALIANO.index(carattere)\n",
        "            nuovo_indice = (indice - chiave) % len(ALFABETO_ITALIANO)\n",
        "            risultato += ALFABETO_ITALIANO[nuovo_indice]\n",
        "        else:\n",
        "            risultato += carattere  # Mantiene i caratteri non alfabetici inalterati\n",
        "    return risultato"
      ]
    },
    {
      "cell_type": "markdown",
      "source": [
        "# Modulo attacco.py"
      ],
      "metadata": {
        "id": "6qgt1Id14COr"
      }
    },
    {
      "cell_type": "markdown",
      "source": [
        "Il modulo `attacco.py` implementa un attacco a forza bruta per decifrare un testo cifrato con il Cifrario di Cesare, senza conoscere la chiave.\n",
        "\n",
        "Funzionalità principale:\n",
        "\n",
        "*   **Attacco a forza bruta**: a funzione `attacco_forza_bruta` prova tutte le possibili chiavi (da 1 a 20, visto che l'alfabeto ha 21 lettere) per decifrare il messaggio cifrato. Per ogni chiave, decifra il messaggio e lo stampa, consentendo all'utente di visualizzare tutte le possibili decifrature e individuare quella corretta.\n",
        "\n",
        "Il Cifrario di Cesare è vulnerabile a un attacco a forza bruta perché il numero di chiavi possibili è limitato (solo 20 nel caso dell'alfabeto italiano), quindi è possibile tentare tutte le combinazioni e trovare la chiave corretta in modo relativamente rapido."
      ],
      "metadata": {
        "id": "9a0RC_Yz4Ik6"
      }
    },
    {
      "cell_type": "code",
      "source": [
        "#A cura del prof. FP Caforio (www.francescopaolocaforio.com)\n",
        "\n",
        "# attacco.py\n",
        "\n",
        "#from cesare import decifra_cesare, ALFABETO_ITALIANO\n",
        "\n",
        "def attacco_forza_bruta(testo_cifrato):\n",
        "    \"\"\"\n",
        "    Funzione che esegue un attacco a forza bruta su un testo cifrato con il Cifrario di Cesare.\n",
        "    Prova tutte le chiavi da 1 a 20 (poiché l'alfabeto italiano ha 21 lettere) e stampa i risultati.\n",
        "    :param testo_cifrato: Il testo cifrato da decifrare.\n",
        "    \"\"\"\n",
        "    for chiave in range(1, len(ALFABETO_ITALIANO)):\n",
        "        testo_decifrato = decifra_cesare(testo_cifrato, chiave)\n",
        "        print(f\"Chiave {chiave}: {testo_decifrato}\")"
      ],
      "metadata": {
        "id": "79rpQ47Dyh_Q"
      },
      "execution_count": null,
      "outputs": []
    },
    {
      "cell_type": "markdown",
      "source": [
        "# Modulo main.py"
      ],
      "metadata": {
        "id": "X6ztOR4O43_m"
      }
    },
    {
      "cell_type": "markdown",
      "source": [
        "Il file `main.py` gestisce l'interazione con l'utente e integra le funzionalità di cifratura, decifratura e attacco a forza bruta.\n",
        "\n",
        "**Funzionalità principali**\n",
        "\n",
        "* **Cifratura**: l'utente inserisce un testo e una chiave per cifrare il messaggio utilizzando il Cifrario di Cesare.\n",
        "* **Attacco a forza bruta**: dopo aver cifrato il messaggio, l'utente può scegliere di eseguire un attacco a forza bruta per tentare tutte le chiavi possibili e visualizzare i risultati.\n",
        "\n",
        "**Flusso di lavoro**\n",
        "\n",
        "* L'utente inserisce un testo in chiaro e una chiave.\n",
        "* Il programma cifra il testo e visualizza il risultato.\n",
        "* L'utente può decidere se eseguire un attacco a forza bruta per decifrare il testo cifrato.\n",
        "* Il programma prova tutte le chiavi possibili e visualizza ogni tentativo di decifratura."
      ],
      "metadata": {
        "id": "d3l9QRwf5OgH"
      }
    },
    {
      "cell_type": "code",
      "source": [
        "#A cura del prof. FP Caforio (www.francescopaolocaforio.com)\n",
        "\n",
        "# main.py\n",
        "\n",
        "#from cesare import cifra_cesare, decifra_cesare, ALFABETO_ITALIANO\n",
        "#from attacco import attacco_forza_bruta\n",
        "\n",
        "def main():\n",
        "    # Informiamo l'utente che useremo l'alfabeto italiano\n",
        "    print(f\"Alfabeto usato: {ALFABETO_ITALIANO}\")\n",
        "\n",
        "    # Prendi il testo in chiaro dall'utente\n",
        "    testo_in_chiaro = input(\"Inserisci il testo da cifrare (usa solo lettere dell'alfabeto italiano): \")\n",
        "\n",
        "    # Prendi la chiave dall'utente\n",
        "    chiave = int(input(f\"Inserisci la chiave di cifratura (numero tra 1 e {len(ALFABETO_ITALIANO) - 1}): \"))\n",
        "\n",
        "    # Cifra il testo\n",
        "    testo_cifrato = cifra_cesare(testo_in_chiaro, chiave)\n",
        "    print(f\"Testo cifrato: {testo_cifrato}\")\n",
        "\n",
        "    # Chiedi all'utente se desidera eseguire un attacco a forza bruta\n",
        "    eseguire_attacco = input(\"Vuoi eseguire un attacco a forza bruta sul testo cifrato? (s/n): \").lower()\n",
        "\n",
        "    if eseguire_attacco == 's':\n",
        "        print(\"Risultati dell'attacco a forza bruta:\")\n",
        "        attacco_forza_bruta(testo_cifrato)\n",
        "\n",
        "if __name__ == \"__main__\":\n",
        "    main()"
      ],
      "metadata": {
        "colab": {
          "base_uri": "https://localhost:8080/"
        },
        "id": "PMBi4ln8ypKq",
        "outputId": "e0da8247-f499-4e85-b981-5952536576f3"
      },
      "execution_count": null,
      "outputs": [
        {
          "output_type": "stream",
          "name": "stdout",
          "text": [
            "Alfabeto usato: ABCDEFGHILMNOPQRSTUVZ\n",
            "Inserisci il testo da cifrare (usa solo lettere dell'alfabeto italiano): STUDIARE SEMPRE SISTEMI E RETI \n",
            "Inserisci la chiave di cifratura (numero tra 1 e 20): 3\n",
            "Testo cifrato: VZAGNDUH VHPSUH VNVZHPN H UHZN \n",
            "Vuoi eseguire un attacco a forza bruta sul testo cifrato? (s/n): S\n",
            "Risultati dell'attacco a forza bruta:\n",
            "Chiave 1: UVZFMCTG UGORTG UMUVGOM G TGVM \n",
            "Chiave 2: TUVELBSF TFNQSF TLTUFNL F SFUL \n",
            "Chiave 3: STUDIARE SEMPRE SISTEMI E RETI \n",
            "Chiave 4: RSTCHZQD RDLOQD RHRSDLH D QDSH \n",
            "Chiave 5: QRSBGVPC QCINPC QGQRCIG C PCRG \n",
            "Chiave 6: PQRAFUOB PBHMOB PFPQBHF B OBQF \n",
            "Chiave 7: OPQZETNA OAGLNA OEOPAGE A NAPE \n",
            "Chiave 8: NOPVDSMZ NZFIMZ NDNOZFD Z MZOD \n",
            "Chiave 9: MNOUCRLV MVEHLV MCMNVEC V LVNC \n",
            "Chiave 10: LMNTBQIU LUDGIU LBLMUDB U IUMB \n",
            "Chiave 11: ILMSAPHT ITCFHT IAILTCA T HTLA \n",
            "Chiave 12: HILRZOGS HSBEGS HZHISBZ S GSIZ \n",
            "Chiave 13: GHIQVNFR GRADFR GVGHRAV R FRHV \n",
            "Chiave 14: FGHPUMEQ FQZCEQ FUFGQZU Q EQGU \n",
            "Chiave 15: EFGOTLDP EPVBDP ETEFPVT P DPFT \n",
            "Chiave 16: DEFNSICO DOUACO DSDEOUS O COES \n",
            "Chiave 17: CDEMRHBN CNTZBN CRCDNTR N BNDR \n",
            "Chiave 18: BCDLQGAM BMSVAM BQBCMSQ M AMCQ \n",
            "Chiave 19: ABCIPFZL ALRUZL APABLRP L ZLBP \n",
            "Chiave 20: ZABHOEVI ZIQTVI ZOZAIQO I VIAO \n"
          ]
        }
      ]
    }
  ]
}